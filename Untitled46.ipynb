{
 "cells": [
  {
   "cell_type": "markdown",
   "id": "9780eefb-c682-4ffe-80b5-ad66717dc2d7",
   "metadata": {},
   "source": [
    "## Q1. Load the flight price dataset and examine its dimensions. How many rows and columns does the\n",
    "dataset have?"
   ]
  },
  {
   "cell_type": "code",
   "execution_count": null,
   "id": "735a3de7-ffef-4926-91e0-fb446d6c3c42",
   "metadata": {},
   "outputs": [],
   "source": [
    "import pandas as pd\n",
    "\n",
    "# Load the flight price dataset\n",
    "# Replace 'flight_price_dataset.csv' with the actual file path or URL of your dataset\n",
    "flight_price_data = pd.read_csv('flight_price_dataset.csv')\n",
    "\n",
    "# Examine the dimensions of the dataset\n",
    "num_rows, num_columns = flight_price_data.shape\n",
    "print(\"Number of rows:\", num_rows)\n",
    "print(\"Number of columns:\", num_columns)\n",
    "In this code:\n",
    "\n",
    "We import the pandas library as pd.\n",
    "We use the pd.read_csv() function to load the flight price dataset from a CSV file. Make sure to replace 'flight_price_dataset.csv' with the actual file path or URL of your dataset.\n",
    "We use the .shape attribute of the DataFrame to get the dimensions of the dataset, where the first element represents the number of rows and the second element represents the number of columns.\n",
    "Finally, we print the number of rows and columns of the dataset.\n",
    "Execute this code with the appropriate file path or URL for your flight price dataset, and it will display the number of rows and columns in the dataset.\n",
    "\n",
    "\n",
    "\n",
    "\n",
    "\n",
    "\n"
   ]
  },
  {
   "cell_type": "markdown",
   "id": "8c304418-c87f-44cc-aace-05a6dde985df",
   "metadata": {},
   "source": [
    "## Q2. What is the distribution of flight prices in the dataset? Create a histogram to visualize the\n",
    "distribution."
   ]
  },
  {
   "cell_type": "code",
   "execution_count": null,
   "id": "83ba7d50-4fba-40d8-b876-efa3975b8214",
   "metadata": {},
   "outputs": [],
   "source": [
    "import pandas as pd\n",
    "import matplotlib.pyplot as plt\n",
    "\n",
    "# Load the flight price dataset\n",
    "# Replace 'flight_price_dataset.csv' with the actual file path or URL of your dataset\n",
    "flight_price_data = pd.read_csv('flight_price_dataset.csv')\n",
    "\n",
    "# Extract the 'Price' column from the dataset\n",
    "prices = flight_price_data['Price']\n",
    "\n",
    "# Create a histogram to visualize the distribution of flight prices\n",
    "plt.figure(figsize=(10, 6))\n",
    "plt.hist(prices, bins=30, color='skyblue', edgecolor='black')\n",
    "plt.title('Distribution of Flight Prices')\n",
    "plt.xlabel('Price')\n",
    "plt.ylabel('Frequency')\n",
    "plt.grid(True)\n",
    "plt.show()\n",
    "In this code:\n",
    "\n",
    "We import the pandas library as pd and the matplotlib.pyplot module as plt.\n",
    "We use the pd.read_csv() function to load the flight price dataset from a CSV file. Replace 'flight_price_dataset.csv' with the actual file path or URL of your dataset.\n",
    "We extract the 'Price' column from the dataset and assign it to the variable prices.\n",
    "We create a histogram using plt.hist() to visualize the distribution of flight prices. We specify the number of bins as 30 for better granularity.\n",
    "Finally, we customize the plot title, labels, and grid, and display the histogram using plt.show()."
   ]
  }
 ],
 "metadata": {
  "kernelspec": {
   "display_name": "Python 3 (ipykernel)",
   "language": "python",
   "name": "python3"
  },
  "language_info": {
   "codemirror_mode": {
    "name": "ipython",
    "version": 3
   },
   "file_extension": ".py",
   "mimetype": "text/x-python",
   "name": "python",
   "nbconvert_exporter": "python",
   "pygments_lexer": "ipython3",
   "version": "3.10.8"
  }
 },
 "nbformat": 4,
 "nbformat_minor": 5
}
